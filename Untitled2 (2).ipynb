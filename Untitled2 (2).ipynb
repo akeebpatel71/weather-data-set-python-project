{
  "nbformat": 4,
  "nbformat_minor": 0,
  "metadata": {
    "colab": {
      "provenance": []
    },
    "kernelspec": {
      "name": "python3",
      "display_name": "Python 3"
    },
    "language_info": {
      "name": "python"
    }
  },
  "cells": [
    {
      "cell_type": "code",
      "execution_count": null,
      "metadata": {
        "colab": {
          "base_uri": "https://localhost:8080/"
        },
        "id": "wjeBDI0Jtqw7",
        "outputId": "67471146-69d4-4074-b614-4a95e2c75769"
      },
      "outputs": [
        {
          "output_type": "stream",
          "name": "stdout",
          "text": [
            "\n",
            "Weather Data Summary:\n",
            "- Average Temperature: 8.80°C\n",
            "- Hottest Day: 6/21/2012 15:00 with 33.0°C\n",
            "- Coldest Day: 1/15/2012 8:00 with -23.3°C\n"
          ]
        }
      ],
      "source": [
        "import pandas as pd\n",
        "\n",
        "try:\n",
        "    weather_data = pd.read_csv('weather_data.csv')\n",
        "except FileNotFoundError:\n",
        "    print(\"Error: The file 'weather_data.csv' was not found.\")\n",
        "    exit()\n",
        "\n",
        "if 'Date/Time' not in weather_data.columns or 'Temp_C' not in weather_data.columns:\n",
        "    print(\"Error: The CSV file must contain 'Date/Time' and 'Temp_C' columns.\")\n",
        "    exit()\n",
        "\n",
        "try:\n",
        "    weather_data['Temp_C'] = pd.to_numeric(weather_data['Temp_C'], errors='coerce')\n",
        "    avg_temp = weather_data['Temp_C'].mean()\n",
        "    max_temp = weather_data['Temp_C'].max()\n",
        "    min_temp = weather_data['Temp_C'].min()\n",
        "    hottest_day = weather_data.loc[weather_data['Temp_C'] == max_temp, 'Date/Time'].iloc[0]\n",
        "    coldest_day = weather_data.loc[weather_data['Temp_C'] == min_temp, 'Date/Time'].iloc[0]\n",
        "    print(\"\\nWeather Data Summary:\")\n",
        "    print(f\"- Average Temperature: {avg_temp:.2f}°C\")\n",
        "    print(f\"- Hottest Day: {hottest_day} with {max_temp}°C\")\n",
        "    print(f\"- Coldest Day: {coldest_day} with {min_temp}°C\")\n",
        "except Exception as e:\n",
        "    print(f\"An error occurred during analysis: {e}\")\n"
      ]
    },
    {
      "cell_type": "code",
      "source": [],
      "metadata": {
        "id": "g_nciFpqt9gq"
      },
      "execution_count": null,
      "outputs": []
    }
  ]
}